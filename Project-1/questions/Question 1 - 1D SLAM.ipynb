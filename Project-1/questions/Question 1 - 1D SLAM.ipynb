{
 "cells": [
  {
   "cell_type": "markdown",
   "id": "posted-twist",
   "metadata": {},
   "source": [
    "# Question 1:  Pose Graph Optimization for 1D SLAM"
   ]
  },
  {
   "cell_type": "markdown",
   "id": "chemical-andorra",
   "metadata": {},
   "source": [
    "A solved example for 1D SLAM which optimizes for pose variables using weighted least squares method (Gauss Newton) has been explained in the class. You can view it at `examples/1D-SLAM.ipynb`. Your first task is to code this from scratch.\n",
    "\n",
    "For this section, you have to calculate Jacobian analytically yourself and use it. However, you can check how correct it is using `jax`'s `jacobian`. Its usage is explained in the supplementary notebook (`examples/`)."
   ]
  },
  {
   "cell_type": "markdown",
   "id": "fleet-digest",
   "metadata": {},
   "source": [
    "## How to get started?\n",
    "\n",
    "1. Go through the example and understand the optimization procedure.\n",
    "2. Generate the data as in the example.\n",
    "3. Write the derivatives of the function with respect to the constraints\n",
    "4. Create the final jacobian and write the update steps using Gauss Newton\n",
    "\n",
    "This tiny example will help make sense of the next question, as it's largely just an extension of this."
   ]
  },
  {
   "cell_type": "markdown",
   "id": "tough-brighton",
   "metadata": {},
   "source": [
    "Finally, plot the loop closure constraint, poses, and error at every iteration as well. Since this is a one dimensional example, you can just assume x = y."
   ]
  },
  {
   "cell_type": "code",
   "execution_count": 2,
   "id": "multiple-stomach",
   "metadata": {},
   "outputs": [],
   "source": [
    "import os\n",
    "import math\n",
    "import numpy as np\n",
    "import matplotlib.pyplot as plt\n",
    "import jax.numpy as jnp\n",
    "from jax import jacfwd"
   ]
  },
  {
   "cell_type": "code",
   "execution_count": null,
   "id": "focal-identification",
   "metadata": {},
   "outputs": [],
   "source": [
    "# Code!\n",
    "# we will have following steps:\n",
    "# data generation\n",
    "# getting info matrix from covariance\n",
    "# residual \n",
    "# jacobian calc\n",
    "# optimization\n",
    "# plotting"
   ]
  },
  {
   "cell_type": "code",
   "execution_count": 21,
   "metadata": {},
   "outputs": [
    {
     "name": "stdout",
     "output_type": "stream",
     "text": [
      "U:  [ 1  1  1 -3  0]\n",
      "obs u : [1.1, 1, 1.1, -2.7, 0]\n",
      "X:  [0, 1, 2, 3, 0]\n",
      "Odo x : [0.0, 1.1, 2.1, 3.2, 0.5]\n"
     ]
    }
   ],
   "source": [
    "#data generation\n",
    "gt_u=[1,1,1,-3,0]\n",
    "obs_u=[1.1,1,1.1,-2.7,0]\n",
    "gt_x=[0]\n",
    "odo_x=[0.0]\n",
    "\n",
    "def data_generation():\n",
    "    for _ in range(len(gt_u)-1):\n",
    "        gt_x.append(gt_u[_]+gt_x[_])\n",
    "        odo_x.append(obs_u[_]+odo_x[_])\n",
    "\n",
    "def view_initials():\n",
    "    # print (\"Ground Truth :\")\n",
    "    print(\"U: \",gt_u)\n",
    "    print(\"obs u :\" , obs_u)\n",
    "    print(\"X: \",gt_x)\n",
    "    print(\"Odo x :\",odo_x)\n",
    "\n",
    "data_generation()\n",
    "view_initials()\n",
    "\n"
   ]
  },
  {
   "cell_type": "code",
   "execution_count": 36,
   "metadata": {},
   "outputs": [
    {
     "name": "stdout",
     "output_type": "stream",
     "text": [
      "Info matrix : \n",
      " [[ 100.    0.    0.    0.    0.    0.]\n",
      " [   0.  100.    0.    0.    0.    0.]\n",
      " [   0.    0.  100.    0.    0.    0.]\n",
      " [   0.    0.    0.  100.    0.    0.]\n",
      " [   0.    0.    0.    0.  100.    0.]\n",
      " [   0.    0.    0.    0.    0. 1000.]]\n"
     ]
    }
   ],
   "source": [
    "# info matrix from covariance matrix\n",
    "covariance_matrix=np.array([\n",
    "    [0.01, 0, 0, 0, 0, 0],\n",
    "    [0, 0.01, 0, 0, 0, 0],\n",
    "    [0, 0, 0.01, 0, 0, 0],\n",
    "    [0, 0, 0, 0.01, 0, 0],\n",
    "    [0, 0, 0, 0, 0.01, 0],\n",
    "    [0, 0, 0, 0, 0, 0.001]\n",
    "])\n",
    "# weights = jnp.diag(jnp.array([.01, .01, .01,.01, .01, .001]))\n",
    "# print(weights)\n",
    "residual=[]\n",
    "\n",
    "info_matrix=np.linalg.inv(covariance_matrix)\n",
    "\n",
    "\n",
    "def calc_residual(u,x):\n",
    "    residual=[]\n",
    "    for i in range(len(u)-1):\n",
    "        residual.append(u[i]+x[i]-x[i+1])\n",
    "    residual.append(u[4]+x[0]-x[4])\n",
    "    residual.append(x[0]-0)\n",
    "    res=jnp.array(residual)\n",
    "    return res\n",
    "    \n",
    "print(\"Info matrix : \\n\",info_matrix)\n",
    "\n"
   ]
  },
  {
   "cell_type": "code",
   "execution_count": 33,
   "metadata": {},
   "outputs": [
    {
     "name": "stdout",
     "output_type": "stream",
     "text": [
      "analytical_jacobian is :\n",
      " [[ 1 -1  0  0  0]\n",
      " [ 0  1 -1  0  0]\n",
      " [ 0  0  1 -1  0]\n",
      " [ 0  0  0  1 -1]\n",
      " [ 1  0  0  0 -1]\n",
      " [ 1  0  0  0  0]]\n",
      "jax j is :\n",
      " [[ 1. -1.  0.  0.  0.]\n",
      " [ 0.  1. -1.  0.  0.]\n",
      " [ 0.  0.  1. -1.  0.]\n",
      " [ 0.  0.  0.  1. -1.]\n",
      " [ 1.  0.  0.  0. -1.]\n",
      " [ 1.  0.  0.  0.  0.]]\n"
     ]
    }
   ],
   "source": [
    "#jacobian\n",
    "\n",
    "analytical_j=np.array(\n",
    "    [\n",
    "        [1, -1, 0, 0, 0],\n",
    "        [0, 1, -1, 0, 0],\n",
    "        [0, 0, 1, -1, 0],\n",
    "        [0, 0, 0, 1, -1],\n",
    "        [1, 0, 0, 0, -1],\n",
    "        [1, 0, 0, 0, 0]\n",
    "    ]\n",
    ")\n",
    "\n",
    "# Jacobian using Jax\n",
    "def jax_J():\n",
    "    global obs_u\n",
    "    global odo_x\n",
    "    resd=lambda X: calc_residual(obs_u, X)\n",
    "    func_J = jacfwd(resd)\n",
    "    jax_from_funct=np.array(func_J(odo_x)).T\n",
    "    return jax_from_funct\n",
    "\n",
    "\n",
    "\n",
    "\n",
    "print(\"analytical_jacobian is :\\n\",analytical_j)\n",
    "\n",
    "print(\"jax j is :\\n\",jax_J())\n",
    "\n",
    "\n"
   ]
  },
  {
   "cell_type": "code",
   "execution_count": 52,
   "metadata": {},
   "outputs": [
    {
     "name": "stdout",
     "output_type": "stream",
     "text": [
      "Intial X:  [0.  1.1 2.1 3.2 0.5]\n",
      "Final X = \n",
      " [-0.   1.1  2.1  3.2  0.5]\n",
      "[[ 0.0000000e+00  1.1000000e+00  2.0999999e+00  3.2000000e+00\n",
      "   5.0000000e-01]\n",
      " [-1.6298145e-09  1.1000000e+00  2.0999999e+00  3.2000000e+00\n",
      "   5.0000000e-01]\n",
      " [-3.2596290e-09  1.1000000e+00  2.0999999e+00  3.2000000e+00\n",
      "   5.0000000e-01]\n",
      " [-1.1641532e-09  1.1000000e+00  2.0999999e+00  3.2000000e+00\n",
      "   5.0000000e-01]\n",
      " [-2.7939677e-09  1.1000000e+00  2.0999999e+00  3.2000000e+00\n",
      "   5.0000000e-01]\n",
      " [-6.9849193e-10  1.1000000e+00  2.0999999e+00  3.2000000e+00\n",
      "   5.0000000e-01]\n",
      " [-2.3283064e-09  1.1000000e+00  2.0999999e+00  3.2000000e+00\n",
      "   5.0000000e-01]\n",
      " [-2.3283064e-10  1.1000000e+00  2.0999999e+00  3.2000000e+00\n",
      "   5.0000000e-01]\n",
      " [-1.8626451e-09  1.1000000e+00  2.0999999e+00  3.2000000e+00\n",
      "   5.0000000e-01]\n",
      " [-3.4924597e-09  1.1000000e+00  2.0999999e+00  3.2000000e+00\n",
      "   5.0000000e-01]\n",
      " [-1.3969839e-09  1.1000000e+00  2.0999999e+00  3.2000000e+00\n",
      "   5.0000000e-01]]\n"
     ]
    }
   ],
   "source": [
    "def gauss_newton(info_matrix,U,X,iter=10):\n",
    "    x_list=[X[0]]\n",
    "    print(\"Intial X: \",X[0])\n",
    "    H=analytical_j.T @ info_matrix @ analytical_j\n",
    "    for _ in range(iter):\n",
    "        b= analytical_j.T @ info_matrix.T @ calc_residual(U[0],X[0])\n",
    "        b=b.reshape((-1,1))\n",
    "        del_x= -1* jnp.linalg.inv(H) @ b\n",
    "        X= X+ del_x.reshape((-1,1))\n",
    "        x_list.append(X[0])\n",
    "\n",
    "    with jnp.printoptions(precision=7, suppress=True):\n",
    "        print(\"Final X = \\n\",X[0])\n",
    "\n",
    "    return jnp.array(x_list)\n",
    "\n",
    "analytical=gauss_newton(info_matrix,jnp.array(obs_u).reshape((1,-1)),jnp.array(odo_x).reshape((1,-1)))\n",
    "print(analytical)\n"
   ]
  }
 ],
 "metadata": {
  "interpreter": {
   "hash": "25835b948c24ebd10969a4ad606ca6028421d312f64f7f25ef4c39380c712bba"
  },
  "kernelspec": {
   "display_name": "Python 3.8.11 64-bit ('mr_assignment3': conda)",
   "name": "python3"
  },
  "language_info": {
   "codemirror_mode": {
    "name": "ipython",
    "version": 3
   },
   "file_extension": ".py",
   "mimetype": "text/x-python",
   "name": "python",
   "nbconvert_exporter": "python",
   "pygments_lexer": "ipython3",
   "version": "3.8.11"
  }
 },
 "nbformat": 4,
 "nbformat_minor": 5
}
