{
 "cells": [
  {
   "cell_type": "markdown",
   "id": "exposed-little",
   "metadata": {},
   "source": [
    "# Question 3: Trajectory Evaluation and g2o"
   ]
  },
  {
   "cell_type": "markdown",
   "id": "hearing-bachelor",
   "metadata": {},
   "source": [
    "_Refer to the example notebooks for installation instructions_"
   ]
  },
  {
   "cell_type": "markdown",
   "id": "radio-atlantic",
   "metadata": {},
   "source": [
    "# Evo"
   ]
  },
  {
   "cell_type": "markdown",
   "id": "recognized-booking",
   "metadata": {},
   "source": [
    "So you've implemented 2D SLAM, great! Now, what? We need a measure of how good the trajectory is. The error/loss used earlier doesn't tell us much about how the trajectory differs from the ground truth. Here, we try to do just this - compute error metrics. Rather than computing these from scratch, we will just Evo - https://github.com/MichaelGrupp/evo/."
   ]
  },
  {
   "cell_type": "markdown",
   "id": "amino-command",
   "metadata": {},
   "source": [
    "Look at the absolute pose error (APE) and relative pose error (RPE). What do they capture and how are they calculated (descriptive answer)? How do these metrics differ in methodology? Can we determine if the error is more along the x/y axis?\n",
    "\n",
    "Answer the above questions and report errors for the obtained trajectory."
   ]
  },
  {
   "cell_type": "code",
   "execution_count": null,
   "id": "typical-brief",
   "metadata": {},
   "outputs": [],
   "source": [
    "# Write up with plots/images\n"
   ]
  },
  {
   "cell_type": "markdown",
   "metadata": {},
   "source": [
    "The reference for answering this question has been studied from [This reference paper](http://rpg.ifi.uzh.ch/docs/IROS18_Zhang.pdf)\n",
    "\n",
    "APE (or ATE absolute trajectory error): The absolute pose error is a metric for investigating the global consistency of a SLAM trajectory \n",
    "\n",
    "\n",
    "\n",
    "RPE: The relative pose error is a metric for investigating the local consistency of a SLAM trajectory\n",
    "\n",
    " \n",
    "These two are the most popular accuracy metrics for SLAM.\n",
    "\n",
    "Lets compare between the two on the following grounds:\n",
    "\n",
    "1. Compute\n",
    "\n",
    "    1. APE : It measures the difference between estimated trajectory and ground truth points that are obtained with the sensor data as input by algorithm and it is mandatory performance measure \n",
    "        Translation Part\n",
    "        This uses the translation part of $E_i$ <br/>\n",
    "        This uses the translation part of $E_i$ <br/>\n",
    "        $ APE_i = \\| \\mathrm{trans}(E_i) \\| $ \n",
    "        This uses the translation part of $E_i$ <br/>\n",
    "        Since this is the distance measured in the shared inertial frame, it is equal to the point distance between the pose pairs\n",
    "    2. RPE :  \n",
    "        a. Choose all sub-trajectories of length d. <br/>\n",
    "        b. Using the first state, align each sub-trajectory. <br/>\n",
    "        c. Determine the error of each sub-end trajectory's state.<br/> \n",
    "        d. Compile the errors for each sub-trajectory. <br/>\n",
    "        e. Repeat above four steps for different d lengths. <br/>\n",
    "    \n",
    "2. Pros\n",
    "\n",
    "    1. APE : Easy for comparision as it uses single number metric \n",
    "\n",
    "    2. RPE :From the errors of all sub-trajectories informative statistics can be derived.<br/>\n",
    "        The relative error can be used to reflect both short and long term accuracy by varying the length d.<br/>\n",
    "\n",
    "3. Cons\n",
    "\n",
    "    1. APE : It is sensitive to the time when the error in estimation occurs<br/>\n",
    "\n",
    "    2. RPE :   Calculation is relatively difficult.<br/>\n",
    "    Ranking the estimation accuracy is more difficult.\n",
    "\n",
    "We can identify whether the error is larger along the x/y axis. By independently calculating the APE/RPE of the motion model/trajectory acquired by extending the project along the x/y axis and comparing the results.\n",
    "\n",
    "An image for the better understanding has been attached below.\n",
    "\n",
    "![difference](../results/q3/part1_reference_quoted.png)\n"
   ]
  },
  {
   "cell_type": "markdown",
   "id": "surrounded-anderson",
   "metadata": {},
   "source": [
    "If you're interested, play around with this tool and add any other plots that you think might be relevant/interesting."
   ]
  },
  {
   "cell_type": "markdown",
   "metadata": {},
   "source": [
    "Now we run following commands just copy paste:-\n",
    "python ../misc/g2o_to_kitti.py ../data/gt.txt ../results/q3/gt.kitti\n",
    "python ../misc/g2o_to_kitti.py ../results/q2/edges-poses.g2o ../results/q3/noise.kitti\n",
    "python ../misc/g2o_to_kitti.py ../results/q2/edges-poses-opt.g2o ../results/q3/opt.kitti\n",
    "evo_rpe kitti ../results/q3/gt.kitti ../results/q3/noise.kitti -v --plot --plot_mode xy\n",
    "evo_ape kitti ../results/q3/gt.kitti ../results/q3/noise.kitti -v --plot --plot_mode xy\n",
    "evo_traj kitti ../results/q3/gt.kitti ../results/q3/noise.kitti -v --plot --plot_mode xy\n",
    "evo_rpe kitti ../results/q3/gt.kitti ../results/q3/opt.kitti -v --plot --plot_mode xy\n",
    "evo_ape kitti ../results/q3/gt.kitti ../results/q3/opt.kitti -v --plot --plot_mode xy\n",
    "evo_traj kitti ../results/q3/gt.kitti ../results/q3/opt.kitti -v --plot --plot_mode xy"
   ]
  },
  {
   "cell_type": "markdown",
   "id": "exceptional-charity",
   "metadata": {},
   "source": [
    "# g2o"
   ]
  },
  {
   "cell_type": "markdown",
   "id": "presidential-hayes",
   "metadata": {},
   "source": [
    "Install g2o as mentioned in `examples/g2o.ipynb` and optimise `edges.txt`, the file you used earlier. Also use `g2o_viewer` and optimize `intel` (a trajectory in the Intel research lab) and `sphere`. They should look something like:\n",
    "\n",
    "\n",
    "<table><tr>\n",
    "<td> <img src=\"../misc/intel.jpg\" alt=\"Drawing\" style=\"width: 250px;\"/> </td>\n",
    "<td> <img src=\"../misc/sphere.jpg\" alt=\"Drawing\" style=\"width: 250px;\"/> </td>\n",
    "</tr></table>"
   ]
  },
  {
   "cell_type": "markdown",
   "id": "amino-football",
   "metadata": {},
   "source": [
    "Write briefly about your observations and try out few options in the GUI. What do they do, how do they perform?"
   ]
  },
  {
   "cell_type": "code",
   "execution_count": null,
   "id": "interstate-arizona",
   "metadata": {},
   "outputs": [],
   "source": [
    "# Your answer"
   ]
  },
  {
   "cell_type": "markdown",
   "metadata": {},
   "source": [
    "# Answer:\n",
    "\n",
    "I have used g2o_viewer as mentioned to optimize edges-poses.g2o , intel.g2o and sphere.g2o \n",
    "\n",
    "# Edges-Poses\n",
    "\n",
    "![Raw data](../results/q3/edge-poses/raw_data.png) \n",
    "\n",
    "This is the raw data in g2o_viewer\n",
    "\n",
    "![initial guess](../results/q3/edge-poses/initial_guess.png) \n",
    "\n",
    "This is the inital guess in g2o_viewer\n",
    "\n",
    "\n",
    "![optimized](../results/q3/edge-poses/optimized.png) \n",
    "\n",
    "This is the optimized after 15 iterations in g2o_viewer\n",
    "\n",
    "\n",
    "# Intel\n",
    "\n",
    "![Raw data](../results/q3/intel/raw_data.png) \n",
    "\n",
    "This is the raw data in g2o_viewer\n",
    "\n",
    "![initial guess](../results/q3/intel/initial_guess.png) \n",
    "\n",
    "This is the inital guess in g2o_viewer\n",
    "\n",
    "\n",
    "![optimized](../results/q3/intel/optimised.png) \n",
    "\n",
    "This is the optimized after 10 iterations in g2o_viewer\n",
    "\n",
    "# Sphere \n",
    "\n",
    "Firstly this was done without using robust kernel\n",
    "\n",
    "![Raw data](../results/q3/sphere/raw_data.png) \n",
    "\n",
    "This is the raw data in g2o_viewer\n",
    "\n",
    "![initial guess](../results/q3/sphere/initial_guess.png) \n",
    "\n",
    "This is the inital guess in g2o_viewer\n",
    "\n",
    "\n",
    "![optimized](../results/q3/sphere/optimised.png) \n",
    "\n",
    "This is the optimized after 200 iterations in g2o_viewer\n",
    "\n",
    "This was done using robust kernel it was done because there was still some deformation at one end of the sphere so we used robust kernel.\n",
    "\n",
    "Robust kernels are used to ensure that even a few such outliers do not have a significant impact on the final solution.\n",
    "\n",
    "Robust kernel functions are used to reduce the impact of gross errors. \n",
    "\n",
    "Kernel width is the size of the robust kernel's window.\n",
    "\n",
    "![Raw data](../results/q3/sphere/raw_data_robust_kernel.png) \n",
    "\n",
    "This is the raw data in g2o_viewer\n",
    "\n",
    "![initial guess](../results/q3/sphere/initial_guess_robust_kernel.png) \n",
    "\n",
    "This is the inital guess in g2o_viewer\n",
    "\n",
    "\n",
    "![optimized](../results/q3/sphere/optimized_robust_kernel.png) \n",
    "\n",
    "This is the optimized after 150 iterations in g2o_viewer\n",
    "\n",
    "\n"
   ]
  }
 ],
 "metadata": {
  "interpreter": {
   "hash": "25835b948c24ebd10969a4ad606ca6028421d312f64f7f25ef4c39380c712bba"
  },
  "kernelspec": {
   "display_name": "Python 3.8.11 64-bit ('mr_assignment3': conda)",
   "name": "python3"
  },
  "language_info": {
   "codemirror_mode": {
    "name": "ipython",
    "version": 3
   },
   "file_extension": ".py",
   "mimetype": "text/x-python",
   "name": "python",
   "nbconvert_exporter": "python",
   "pygments_lexer": "ipython3",
   "version": "3.8.11"
  }
 },
 "nbformat": 4,
 "nbformat_minor": 5
}
