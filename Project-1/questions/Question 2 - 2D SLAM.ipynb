{
 "cells": [
  {
   "cell_type": "markdown",
   "id": "separated-checkout",
   "metadata": {},
   "source": [
    "# Question 2:  Pose Graph Optimization for 2D SLAM"
   ]
  },
  {
   "cell_type": "markdown",
   "id": "bearing-connecticut",
   "metadata": {},
   "source": [
    "## Objective\n",
    "A robot is travelling in a oval trajectory. It is equipped with wheel odometry for odometry information and RGBD sensors for loop closure information. Due to noise in wheel odometry it generates a noisy estimate of the trajectory. Our task is to use loop closure pairs to correct the drift.\n",
    "\n",
    "We pose this problem as a graph optimization problem. In our graph, poses are the vertices and constraints are the edges. "
   ]
  },
  {
   "cell_type": "markdown",
   "id": "helpful-tactics",
   "metadata": {},
   "source": [
    "## Given: \n",
    "In practical scenarios, we'd obtain the following from our sensors after some post-processing:\n",
    "\n",
    "1. Initial position\n",
    "2. Odometry Contraints/Edges: This \"edge\" information tells us relative transformation between two nodes. These two nodes are consecutive in the case of Odometry but not in the case of Loop Closure (next point).\n",
    "3. Loop Closure Contraints/Edges: Remember that while optimizing, you have another kind of \"anchor\" edge as you've seen in 1. solved example.\n",
    "\n",
    "You have been given a text file named `edges.txt` (in `data/`) which has all the above 3 and it follows G2O's format (as explained in class, [link here](https://saishubodh.notion.site/G2O-Edge-Types-d9f9ff63c77c4ceeb84b1e49085004e3) ). The ground truth is `gt.txt`."
   ]
  },
  {
   "cell_type": "code",
   "execution_count": 1,
   "metadata": {},
   "outputs": [],
   "source": [
    "import numpy as np\n",
    "import jax\n",
    "import jax.numpy as jnp\n",
    "import matplotlib.pyplot as plt"
   ]
  },
  {
   "cell_type": "markdown",
   "id": "clear-poster",
   "metadata": {},
   "source": [
    "## Steps:\n",
    "\n",
    "### Part 1\n",
    "\n",
    "Using the following motion model, you have to first generate the \"initialization\" for all the poses/vertices using the \"Given\" information. Just like in the 1D case.\n",
    "$$x_{k+1} = x_{k} + \\Delta x_{(k,k+1)} \\cos(\\theta_k) - \\Delta y_{(k,k+1)} \\sin(\\theta_k) \\\\\n",
    "y_{k+1} = y_{k} + \\Delta y_{(k,k+1)} \\cos(\\theta_k) + \\Delta x_{(k,k+1)} \\sin(\\theta_k) \\\\\n",
    "\\theta_{k+1} = \\theta_{k}+  \\Delta \\theta_{(k,k+1)} \\tag{3}$$\n",
    "\n",
    "Even the loop closure nodes are related by the above model, except that it need not necessarily be consecutive notes k and k+1.\n",
    "\n",
    "Save this initial trajectory as `edges-poses.g2o`.\n",
    "\n",
    "If you plot the initialized poses using odometry information, you need to get as the right plot below (this is the \"noisy trajectory\"): (Left one is the ground truth)\n",
    "![robot-poses-MR-P1.png](../misc/robot-poses-MR-P1.png)\n",
    "\n",
    "(Use `draw()` helper function or `g2o_viewer` or `EVO`)"
   ]
  },
  {
   "cell_type": "code",
   "execution_count": 2,
   "id": "elegant-laptop",
   "metadata": {},
   "outputs": [
    {
     "name": "stderr",
     "output_type": "stream",
     "text": [
      "WARNING:absl:No GPU/TPU found, falling back to CPU. (Set TF_CPP_MIN_LOG_LEVEL=0 and rerun for more info.)\n"
     ]
    },
    {
     "name": "stdout",
     "output_type": "stream",
     "text": [
      "Estimate using odometry\n"
     ]
    },
    {
     "data": {
      "image/png": "[encoded data removed]",
      "text/plain": [
       "<Figure size 432x288 with 1 Axes>"
      ]
     },
     "metadata": {
      "needs_background": "light"
     },
     "output_type": "display_data"
    }
   ],
   "source": [
    "def helper_draw(X, Y, THETA):\n",
    "    ax = plt.subplot(111)\n",
    "    ax.plot(X, Y, 'ro')\n",
    "    plt.plot(X, Y, 'c-')\n",
    "\n",
    "    for i in range(len(THETA)):\n",
    "        x2 = 0.25*np.cos(THETA[i]) + X[i]\n",
    "        y2 = 0.25*np.sin(THETA[i]) + Y[i]\n",
    "        plt.plot([X[i], x2], [Y[i], y2], 'g->')\n",
    "\n",
    "    plt.show()\n",
    "\n",
    "\n",
    "def transform(x, y, th, dx, dy, dth):\n",
    "    return jnp.array([\n",
    "        x + dx * jnp.cos(th) - dy * jnp.sin(th),\n",
    "        y + dy * jnp.cos(th) + dx * jnp.sin(th),\n",
    "        th + dth,\n",
    "    ])\n",
    "\n",
    "def read_data(filename):\n",
    "    with open(filename) as f:\n",
    "        data = f.readlines()\n",
    "    \n",
    "    xs = []\n",
    "    ys = []\n",
    "    ths = []\n",
    "\n",
    "    idx1s = []\n",
    "    idx2s = []\n",
    "    dxs = []\n",
    "    dys = []\n",
    "    dths = []\n",
    "\n",
    "    for line in data:\n",
    "        line = line[:-1].split()\n",
    "        if \"VERTEX_SE2\" == line[0]:\n",
    "            ind, x, y, th = list(map(float, line[1:]))\n",
    "            assert len(xs) == ind\n",
    "            xs.append(x)\n",
    "            ys.append(y)\n",
    "            ths.append(th)\n",
    "        elif \"EDGE_SE2\" in line:\n",
    "            idx1, idx2, dx, dy, dth = list(map(float, line[1:6]))\n",
    "            idx1s.append(idx1)\n",
    "            idx2s.append(idx2)\n",
    "            dxs.append(dx)\n",
    "            dys.append(dy)\n",
    "            dths.append(dth)\n",
    " \n",
    "    nodes = jnp.array([xs,ys,ths])\n",
    "    edges = jnp.array([idx1s, idx2s, dxs,dys, dths])\n",
    "\n",
    "    return nodes, edges.T\n",
    "\n",
    "def calc_poses(init_pose, edges):\n",
    "    poses = [init_pose]\n",
    "    x,y,th = init_pose\n",
    "\n",
    "    for i1, i2, dx, dy, dth in edges:\n",
    "        if abs(i1 - i2) != 1:\n",
    "            continue\n",
    "        x, y, th = transform(x, y, th, dx, dy, dth)\n",
    "        poses.append([x, y, th])\n",
    "    \n",
    "    return jnp.array(poses)\n",
    "\n",
    "def write_edges_poses(new_file_name, old_file_name, poses):\n",
    "    data = []\n",
    "\n",
    "    for i, (x,y,th) in enumerate(poses):\n",
    "        data.append(f\"VERTEX_SE2 {i} {x} {y} {th}\\n\")\n",
    "\n",
    "    with open(old_file_name) as f:\n",
    "        data += [line for line in f.readlines() if \"VERTEX_SE2\" not in line]\n",
    "\n",
    "    \n",
    "    with open(new_file_name, 'w+') as f:\n",
    "        f.writelines(data)\n",
    "    \n",
    "\n",
    "EDGES_FILE = '../data/edges.txt'\n",
    "EDGES_POSES_FILE = '../data/edges-poses.g2o'\n",
    "\n",
    "nodes, edges = read_data('../data/edges.txt')\n",
    "poses = calc_poses(nodes[:,0], edges)\n",
    "print(\"Estimate using odometry\")\n",
    "helper_draw(poses[:, 0], poses[:, 1], poses[:, 2])\n",
    "write_edges_poses(EDGES_POSES_FILE, EDGES_FILE, poses)\n"
   ]
  },
  {
   "cell_type": "markdown",
   "id": "compatible-hearts",
   "metadata": {},
   "source": [
    "## Part 2\n",
    "\n",
    "Now calculate the residual and the Jacobian and update your parameters using LM.\n",
    "\n",
    "Use LM algorithm. Regarding Jacobian calculation, you can use `jax`'s `jacobian` as part of your main code. However, you still have to separately calculate it analytically and verify if it matches with `jax`'s `jacobian` using frobenius norm `frobNorm()`). Calculation and verification is compulsory, but it is your choice to use whichever as part of your optimization. Use whichever is faster. You can also visualise your Jacobian and see the structure of the matrix (just use `plt.imshow`).\n",
    "\n",
    "**Regarding LM iterations, stopping criterion, information matrix values.**\n",
    "\n",
    "1. As your iterations proceed, you have to print relevant information (iteration number and error value: [$F = \\frac{1}{2}  \\mathbf{f}^{\\top} \\mathbf{\\Omega} \\mathbf{f} $ (notes on non-linear LS)](https://saishubodh.notion.site/From-linear-algebra-to-non-linear-weighted-least-squares-optimization-13cf17d318be4d45bb8577c4d3ea4a02#32832dee7d6c4ab49581463d9b784f21) at every step).\n",
    "\n",
    "2. You have to show the plots (ground truth, noisy & optimized: all 3 in a single plot) at every 10 steps or so.\n",
    "\n",
    "3. You could start with information values of 500 for odom edges, 700 for loop closure edges, 1000 for anchor edge (same for all dimensions). However, you have to _heavily_ experiment with these values. (Given that you somehow know loop closure information is way more reliable than odometry.). At the end of your experimentation, your error $F = \\frac{1}{2}  \\mathbf{f}^{\\top} \\mathbf{\\Omega} \\mathbf{f} $ should by < 40. Explain your experimentation in detail using tables/plots etc if necessary.\n",
    "    \n",
    "Do not worry if you're not getting a perfect trajectory. Our parametrization was oversimplified for the sake of this project. With that being said, it is possible to get the error down to < 40 and make it at least look like an oval shaped trajectory, even if it doesn't perfectly resemble the ground truth. However, using `g2o` (seen later on), you will be getting a close to ground truth trajectory."
   ]
  },
  {
   "cell_type": "markdown",
   "id": "acute-swift",
   "metadata": {},
   "source": [
    "**Tip**\n",
    "\n",
    "Be sure to make your code modular and implement this in various stages. It will help you debug errors. Feel free to create helper functions in other files, just be sure to submit those as well. \n",
    "\n",
    "You are free to optimise your code using numba/Jax/torch if you wish, just ensure that you are not using any built in functions for any of the steps. It is only compulsory to verify your Jacobian using Jax."
   ]
  },
  {
   "cell_type": "code",
   "execution_count": 3,
   "id": "simplified-array",
   "metadata": {},
   "outputs": [],
   "source": [
    "fixed = poses[0, :]\n",
    "X_SIZE = 3 # count(x,y,th)\n",
    "T_SIZE = 3 # 2D T\n",
    "\n",
    "\n",
    "def frobNorm(P1, P2, str1=\"mat1\", str2=\"mat2\"):\n",
    "    jnp.set_printoptions(suppress=True)\n",
    "    val = jnp.linalg.norm(P1 - P2, 'fro')\n",
    "    print(f\"Frobenius norm between {str1} and {str2} is: {val}\")\n",
    " \n",
    "def get_residual(poses, edges):\n",
    "    resi = list(poses[0] - fixed)\n",
    "\n",
    "    for i1, i2, dx, dy, dth in edges:\n",
    "        i1 = int(i1)\n",
    "        i2 = int(i2)\n",
    "        pose2 = transform(*poses[i1], dx, dy, dth)\n",
    "        resi += [*(pose2 - poses[i2])]\n",
    "    \n",
    "    return jnp.array(resi)\n",
    "\n",
    "def get_my_jacob(poses, edges):\n",
    "    edge_cnt = edges.shape[0]\n",
    "    poses_cnt = poses.shape[0]\n",
    "\n",
    "    contraints_cnt = (edge_cnt+1)*X_SIZE\n",
    "    vars_cnt = poses_cnt*X_SIZE\n",
    "\n",
    "    J = jnp.zeros((contraints_cnt, vars_cnt))\n",
    "    J = J.at[:X_SIZE, : X_SIZE].set(jnp.eye(X_SIZE))\n",
    "\n",
    "    for i, (i1, i2, dx, dy, dth) in enumerate(edges):\n",
    "        i1 = int(i1)\n",
    "        i2 = int(i2)\n",
    "        ## wrt i1\n",
    "        # dr[i]/d(p[i1].x)\n",
    "        J = J.at[(i+1)*X_SIZE, i1*X_SIZE].set(1)\n",
    "\n",
    "        # dr[i]/d(p[i1].y)\n",
    "        J = J.at[(i+1)*X_SIZE+1, i1*X_SIZE + 1].set(1)\n",
    "\n",
    "        # dr[i]/d(p[i1].th)\n",
    "        J = J.at[(i+1)*X_SIZE, i1*X_SIZE + 2].set(\n",
    "            -(dx * jnp.sin(poses[i1][2]) + dy * jnp.cos(poses[i1][2])))\n",
    "        J = J.at[(i+1)*X_SIZE+1, i1*X_SIZE + 2].set(\n",
    "            (dx * jnp.cos(poses[i1][2]) - dy * jnp.sin(poses[i1][2])))\n",
    "        J = J.at[(i+1)*X_SIZE+2, i1*X_SIZE + 2].set(1)\n",
    "\n",
    "\n",
    "        ## wrt i2\n",
    "        J = J.at[(i+1)*X_SIZE: (i+1)*X_SIZE + 3, i2*X_SIZE + 0: i2*X_SIZE + 3].set( -jnp.eye(3))\n",
    "    \n",
    "    return J\n",
    "        \n",
    "\n",
    "jax_jacob_helper = jax.jacfwd(get_residual)\n",
    "def get_jax_jacob(poses, edges):\n",
    "    return jax_jacob_helper(poses, edges).reshape(-1, poses.shape[0]*X_SIZE)\n"
   ]
  },
  {
   "cell_type": "code",
   "execution_count": 4,
   "metadata": {},
   "outputs": [
    {
     "name": "stdout",
     "output_type": "stream",
     "text": [
      "Frobenius norm between my jacobian and jax jacobian is: 0.0\n"
     ]
    }
   ],
   "source": [
    "my_jacob = get_my_jacob(poses, edges)\n",
    "jax_jacob = get_jax_jacob(poses, edges)\n",
    "\n",
    "frobNorm(my_jacob, jax_jacob, \"my jacobian\", \"jax jacobian\")"
   ]
  },
  {
   "cell_type": "markdown",
   "id": "secondary-marshall",
   "metadata": {},
   "source": [
    "## Part 3\n",
    "\n",
    "- Write about the residuals you computed, its structure and shape. Also explain the structure of the Jacobian and its shape (Express the shape in terms of the number of vertices, loop constraints, and such, not exact numbers). \n",
    "- Write about the optimization process and any observations using intermediate plots and such. "
   ]
  },
  {
   "cell_type": "code",
   "execution_count": null,
   "id": "major-dealer",
   "metadata": {},
   "outputs": [],
   "source": []
  },
  {
   "cell_type": "markdown",
   "id": "hired-slide",
   "metadata": {},
   "source": [
    "## Part 4\n",
    "\n",
    "Write the final optimised trajectory as a g2o file. You can do this alongside any of the earlier parts."
   ]
  },
  {
   "cell_type": "code",
   "execution_count": null,
   "id": "polished-reform",
   "metadata": {},
   "outputs": [],
   "source": []
  }
 ],
 "metadata": {
  "interpreter": {
   "hash": "b74ed72cb0c37fa87a4743ec715b1c69c86022b805e1f8dea626b305bf9ed7d9"
  },
  "kernelspec": {
   "display_name": "Python 3.8.11 64-bit ('mr': conda)",
   "name": "python3"
  },
  "language_info": {
   "codemirror_mode": {
    "name": "ipython",
    "version": 3
   },
   "file_extension": ".py",
   "mimetype": "text/x-python",
   "name": "python",
   "nbconvert_exporter": "python",
   "pygments_lexer": "ipython3",
   "version": "3.8.11"
  }
 },
 "nbformat": 4,
 "nbformat_minor": 5
}
