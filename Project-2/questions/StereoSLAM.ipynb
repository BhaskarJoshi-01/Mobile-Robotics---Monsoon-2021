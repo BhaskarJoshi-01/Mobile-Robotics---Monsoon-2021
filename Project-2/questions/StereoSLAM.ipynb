{
 "cells": [
  {
   "cell_type": "markdown",
   "metadata": {},
   "source": [
    "# Stereo SLAM"
   ]
  },
  {
   "cell_type": "markdown",
   "metadata": {},
   "source": [
    "This is a major part of this project and will likely take some time. \n",
    "\n",
    "For stereo, feel free to look up existing tutorials that implement this and write your own code here. Do not spend too long tweaking parameters here, focus on getting decent results and move on. You can also use OpenCV functions to backproject to 3D. "
   ]
  },
  {
   "cell_type": "markdown",
   "metadata": {},
   "source": [
    "## PART 1: Stereo dense reconstruction\n",
    "\n",
    "3-D point clouds are very useful in robotics for several tasks such as object detection, motion estimation (3D-3D matching or 3D-2D matching), SLAM, and other forms of scene understanding.  Stereo camerasprovide  us  with  a  convenient  way  to  generate  dense  point  clouds.Densehere,  in  contrast  tosparse,means all the image points are used for the reconstruction.  In this part of the assignment you will begenerating a dense 3D point cloud reconstruction of a scene from stereo images.\n",
    "\n",
    "#### Procedure: \n",
    "\n",
    "<ol>\n",
    "    <li> Generate a disparity map for each stereo pair.  Use OpenCV (e.g.  StereoSGBM) for this.  Notethat the images provided are already rectified and undistorted. </li>\n",
    "    <li> Then, using the camera parameters and baseline information generate colored point clouds from each disparity map.  Some points will have invalid disparity values, so ignore them.  Use [Open3D]for storing your point clouds. </li>\n",
    "    <li> Register (or transform) all the generated point clouds into your world frame by using the providedground truth poses. </li>\n",
    "    <li> Visualize the registered point cloud data, in color.  Use Open3D for this </li>\n",
    "</ol>\n",
    "    \n",
    "    \n",
    "Write briefly about how the disparity map is generated (if you used SGBM, write about SGBM)."
   ]
  },
  {
   "cell_type": "code",
   "execution_count": 1,
   "metadata": {},
   "outputs": [
    {
     "name": "stdout",
     "output_type": "stream",
     "text": [
      "Jupyter environment detected. Enabling Open3D WebVisualizer.\n",
      "[Open3D INFO] WebRTC GUI backend enabled.\n",
      "[Open3D INFO] WebRTCWindowSystem: HTTP handshake server disabled.\n"
     ]
    }
   ],
   "source": [
    "import numpy as np\n",
    "import cv2 as cv\n",
    "import open3d as o3d\n",
    "import os\n",
    "\n",
    "K = np.array([[7.070912e+02, 0.000000e+00, 6.018873e+02],\n",
    "              [0.000000e+00, 7.070912e+02, 1.831104e+02],\n",
    "              [0.000000e+00, 0.000000e+00, 1.000000e+00]])\n",
    "D = 0.53790448812\n",
    "Ts = np.loadtxt('../data/poses.txt').reshape(-1,3,4)\n",
    "\n",
    "LIMG_folder = '../data/img2'\n",
    "RIMG_folder = '../data/img3'\n",
    "OUT_PATH = '../data/pc'\n"
   ]
  },
  {
   "cell_type": "code",
   "execution_count": 13,
   "metadata": {},
   "outputs": [],
   "source": [
    "def get_disparity_map(limg_path, rimg_path, min_disp=16, max_disp=144, win=3):\n",
    "    limg = cv.cvtColor(cv.imread(limg_path), cv.COLOR_BGR2GRAY)\n",
    "    rimg = cv.cvtColor(cv.imread(rimg_path), cv.COLOR_BGR2GRAY)\n",
    "\n",
    "    # https://docs.opencv.org/3.4/d2/d85/classcv_1_1StereoSGBM.html\n",
    "    disp = cv.StereoSGBM_create(\n",
    "        minDisparity=min_disp,\n",
    "        numDisparities=max_disp-min_disp,\n",
    "        blockSize=7,\n",
    "        disp12MaxDiff=1,\n",
    "        speckleWindowSize=400,\n",
    "        speckleRange=5,\n",
    "        uniquenessRatio=12,\n",
    "        P1=8*3*win**2,\n",
    "        P2=32*3*win**2,\n",
    "    ).compute(limg, rimg).astype(np.float32) / 16.0\n",
    "\n",
    "    # to fix -ve disp\n",
    "    disp += abs(disp.min())\n",
    "    # from PIL import Image\n",
    "    # Image.fromarray(disp.astype(np.float32)).show()\n",
    "    # 1/0\n",
    "    return disp.astype(np.float32)\n",
    "\n",
    "\n",
    "def point_to_ply(path, points, colors, disp):\n",
    "    far_points_mask = disp > disp.min()\n",
    "    points = points[far_points_mask].reshape(-1, 3)\n",
    "    colors = colors[far_points_mask].reshape(-1, 3)\n",
    "    arr = np.c_[points, colors]\n",
    "\n",
    "    # http://paulbourke.net/dataformats/ply/\n",
    "    header = (\n",
    "        \"ply\\n\"\n",
    "        \"format ascii 1.0\\n\"\n",
    "        f\"element vertex {len(arr)}\\n\"\n",
    "        \"property float x\\n\"\n",
    "        \"property float y\\n\"\n",
    "        \"property float z\\n\"\n",
    "        \"property uchar red\\n\"\n",
    "        \"property uchar green\\n\"\n",
    "        \"property uchar blue\\n\"\n",
    "        \"end_header\\n\"\n",
    "    )\n",
    "    with open(path, 'w+') as f:\n",
    "        f.write(header)\n",
    "        np.savetxt(f, arr, '%f %f %f %d %d %d')\n",
    "\n",
    "def create_plys():\n",
    "    os.makedirs(OUT_PATH, exist_ok=True)\n",
    "\n",
    "    file_names = sorted(os.listdir(LIMG_folder))\n",
    "    limg_names = [os.path.join(LIMG_folder, file) for file in file_names]\n",
    "    rimg_names = [os.path.join(RIMG_folder, file) for file in file_names]\n",
    "    pc_names = [os.path.join(OUT_PATH, file[:-4] + '.ply')\n",
    "                for file in file_names]\n",
    "    show = False\n",
    "\n",
    "    for limg_file, rimg_file, pc_file in zip(limg_names, rimg_names, pc_names):\n",
    "        disp = get_disparity_map(limg_file, rimg_file)\n",
    "        limg = cv.imread(limg_file)\n",
    "\n",
    "        h,w = limg.shape[:2]\n",
    "        f = K[0][0]\n",
    "        reverse_P = np.array([\n",
    "            [1, 0, 0, -0.5*w],\n",
    "            [0, -1, 0,  0.5*h],\n",
    "            [0, 0, 0, -f],\n",
    "            [0, 0, -1/D,  0]\n",
    "        ], dtype=np.float32)\n",
    "\n",
    "        coords_3d = cv.reprojectImageTo3D(disp, reverse_P)\n",
    "        pixel_colors = cv.cvtColor(limg, cv.COLOR_BGR2RGB)\n",
    "        point_to_ply(pc_file, coords_3d, pixel_colors, disp)\n",
    "\n",
    "        if show:\n",
    "            show=False\n",
    "            from PIL import Image\n",
    "            Image.fromarray(disp.astype(np.float32)).show()\n",
    "            \n",
    "            o3d.visualization.draw_geometries([ \n",
    "                o3d.io.read_point_cloud(pc_file)\n",
    "            ])\n",
    "\n",
    "        \n",
    "    \n",
    "    return pc_names\n",
    "\n",
    "def combine_pointcloud(pc_names):\n",
    "    pcd_all = o3d.geometry.PointCloud()\n",
    "    for T,pc_file in zip(Ts, sorted(pc_names)):\n",
    "        pcd = o3d.io.read_point_cloud(pc_file)\n",
    "\n",
    "        # print(hash(np.vstack((T, [0, 0, 0, 1])).tobytes()), pc_file)\n",
    "        # 1/0\n",
    "        pcd = pcd.transform(np.vstack((T, [0, 0, 0, 1])))\n",
    "        pcd_all += pcd\n",
    "        # o3d.visualization.draw_geometries([pcd])\n",
    "\n",
    "    \n",
    "    return pcd_all\n"
   ]
  },
  {
   "cell_type": "code",
   "execution_count": 12,
   "metadata": {},
   "outputs": [
    {
     "name": "stdout",
     "output_type": "stream",
     "text": [
      "6485632299028077324 ../data/pc/0000000460.ply\n",
      "-3057979224641129272 ../data/pc/0000000461.ply\n",
      "1217659333877928692 ../data/pc/0000000462.ply\n",
      "4970122843109033744 ../data/pc/0000000463.ply\n",
      "4902059576364824391 ../data/pc/0000000464.ply\n",
      "-1606360050701038974 ../data/pc/0000000465.ply\n",
      "-5068851243062769037 ../data/pc/0000000466.ply\n",
      "-5179365858755805749 ../data/pc/0000000467.ply\n",
      "7639316654742830801 ../data/pc/0000000468.ply\n",
      "-2497898988907370612 ../data/pc/0000000469.ply\n",
      "-113287478862950688 ../data/pc/0000000470.ply\n",
      "4474418534762525133 ../data/pc/0000000471.ply\n",
      "-6943899959433843772 ../data/pc/0000000472.ply\n",
      "-6267120774025562933 ../data/pc/0000000473.ply\n",
      "883472101071728597 ../data/pc/0000000474.ply\n",
      "-1433336757905145234 ../data/pc/0000000475.ply\n",
      "4755536964372518397 ../data/pc/0000000476.ply\n",
      "5456289217364108868 ../data/pc/0000000477.ply\n",
      "3756135856296457587 ../data/pc/0000000478.ply\n",
      "-5059046313368155191 ../data/pc/0000000479.ply\n",
      "-890706848370055466 ../data/pc/0000000480.ply\n"
     ]
    }
   ],
   "source": [
    "ply_files = create_plys()\n",
    "pcd = combine_pointcloud(ply_files)\n",
    "\n",
    "# o3d.visualization.draw_geometries([pcd])\n"
   ]
  },
  {
   "cell_type": "markdown",
   "metadata": {},
   "source": [
    "## PART 2: Motion estimation using iterative PnP\n",
    "\n",
    "Using the generated reconstruction from the previous part, synthesize a new image taken by a virtualmonocular camera fixed at any arbitrary position and orientation.  Your task in this part is to recoverthis pose using an iterative Perspective-from-n-Points (PnP) algorithm. \n",
    "\n",
    "#### Procedure: \n",
    "\n",
    "<ol>\n",
    "    <li> Obtain a set of 2D-3D correspondences between the the image and the point cloud.  Since hereyou’re generating the image, this should be easy to obtain. </li>\n",
    "    <li> For this set of correspondences compute the total reprojection error c= $\\sum_{i} ‖x_i−P_{k}X_i‖^2 $    where $P_{k}= K[R_{k}|t_{k}]$, $X_{i}$ is the 3D point in the world frame, $x_{i}$ is its corresponding projection. </li>\n",
    "    <li> Solve for the pose $T_{k}$ that minimizes this non-linear reprojection error using a Gauss-Newton (GN)scheme.  Recall that in GN we start with some initial estimated value $x_{o}$ and iteratively refine the estimate using $x_{1}$= $∆x+x_0$, where $∆x$ is obtained by solving the normal equations $J^{T}J∆x$= -$J^{T}e$, until convergence.The main steps in this scheme are computing the corresponding Jacobians and updating the estimates correctly.  For our problem,  use a 12×1 vector parameterization for $T_{k}$(the top 3×4submatrix).  Run the optimization for different choices of initialization and report your observations. </li>\n",
    "</ol>\n",
    "\n",
    "Make sure that you write about how you calculate the residual and jacobians. Do not just include the code. The pose that you have been given is the ground truth, so using that will obviously give good results for optimization, so try out something else as well."
   ]
  },
  {
   "cell_type": "code",
   "execution_count": null,
   "metadata": {},
   "outputs": [],
   "source": []
  },
  {
   "cell_type": "markdown",
   "metadata": {},
   "source": [
    "## PART 3: Odometry Calculation\n",
    "\n",
    "In part 1, you used the ground truth pose for registration. Here, try to estimate the pose using the RGB image data alone. \n",
    "\n",
    "#### Procedure:\n",
    "\n",
    "1. This can be done by computing features across the two images and matching them. Since you already have the depth map, you now have correspondences between the depth maps of two images as well from the RGB feature matches. \n",
    "2. You can now convert this depth map to a point cloud.\n",
    "3. Since you have correspondences between image points in the depth map, you have 3D correspondences here as well. Perform ICP here to get a good pose estimate.\n",
    "4. Feed these initial pose estimates into the PnP pipeline and optimise further."
   ]
  },
  {
   "cell_type": "code",
   "execution_count": null,
   "metadata": {},
   "outputs": [],
   "source": []
  }
 ],
 "metadata": {
  "kernelspec": {
   "display_name": "Python 3",
   "language": "python",
   "name": "python3"
  },
  "language_info": {
   "codemirror_mode": {
    "name": "ipython",
    "version": 3
   },
   "file_extension": ".py",
   "mimetype": "text/x-python",
   "name": "python",
   "nbconvert_exporter": "python",
   "pygments_lexer": "ipython3",
   "version": "3.8.11"
  }
 },
 "nbformat": 4,
 "nbformat_minor": 4
}
