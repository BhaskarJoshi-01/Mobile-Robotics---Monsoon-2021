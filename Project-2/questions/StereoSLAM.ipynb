{
 "cells": [
  {
   "cell_type": "markdown",
   "metadata": {},
   "source": [
    "# Stereo SLAM"
   ]
  },
  {
   "cell_type": "markdown",
   "metadata": {},
   "source": [
    "This is a major part of this project and will likely take some time. \n",
    "\n",
    "For stereo, feel free to look up existing tutorials that implement this and write your own code here. Do not spend too long tweaking parameters here, focus on getting decent results and move on. You can also use OpenCV functions to backproject to 3D. "
   ]
  },
  {
   "cell_type": "markdown",
   "metadata": {},
   "source": [
    "## PART 1: Stereo dense reconstruction\n",
    "\n",
    "3-D point clouds are very useful in robotics for several tasks such as object detection, motion estimation (3D-3D matching or 3D-2D matching), SLAM, and other forms of scene understanding.  Stereo camerasprovide  us  with  a  convenient  way  to  generate  dense  point  clouds.Densehere,  in  contrast  tosparse,means all the image points are used for the reconstruction.  In this part of the assignment you will begenerating a dense 3D point cloud reconstruction of a scene from stereo images.\n",
    "\n",
    "#### Procedure: \n",
    "\n",
    "<ol>\n",
    "    <li> Generate a disparity map for each stereo pair.  Use OpenCV (e.g.  StereoSGBM) for this.  Notethat the images provided are already rectified and undistorted. </li>\n",
    "    <li> Then, using the camera parameters and baseline information generate colored point clouds from each disparity map.  Some points will have invalid disparity values, so ignore them.  Use [Open3D]for storing your point clouds. </li>\n",
    "    <li> Register (or transform) all the generated point clouds into your world frame by using the providedground truth poses. </li>\n",
    "    <li> Visualize the registered point cloud data, in color.  Use Open3D for this </li>\n",
    "</ol>\n",
    "    \n",
    "    \n",
    "Write briefly about how the disparity map is generated (if you used SGBM, write about SGBM)."
   ]
  },
  {
   "cell_type": "code",
   "execution_count": 1,
   "metadata": {},
   "outputs": [
    {
     "name": "stdout",
     "output_type": "stream",
     "text": [
      "Jupyter environment detected. Enabling Open3D WebVisualizer.\n",
      "[Open3D INFO] WebRTC GUI backend enabled.\n",
      "[Open3D INFO] WebRTCWindowSystem: HTTP handshake server disabled.\n"
     ]
    }
   ],
   "source": [
    "import numpy as np\n",
    "import cv2 as cv\n",
    "import open3d as o3d\n",
    "import os\n",
    "from matplotlib import pyplot as plt\n",
    "np.random.seed(0)\n",
    "\n",
    "K = np.array([[7.070912e+02, 0.000000e+00, 6.018873e+02],\n",
    "              [0.000000e+00, 7.070912e+02, 1.831104e+02],\n",
    "              [0.000000e+00, 0.000000e+00, 1.000000e+00]])\n",
    "D = 0.53790448812\n",
    "Ts = np.loadtxt('../data/poses.txt').reshape(-1,3,4)\n",
    "\n",
    "LIMG_folder = '../data/img2'\n",
    "RIMG_folder = '../data/img3'\n",
    "OUT_PATH = '../data/pc'\n"
   ]
  },
  {
   "cell_type": "code",
   "execution_count": 2,
   "metadata": {},
   "outputs": [],
   "source": [
    "def get_disparity_map(limg_path, rimg_path, min_disp=16, max_disp=144, win=3):\n",
    "    limg = cv.cvtColor(cv.imread(limg_path), cv.COLOR_BGR2GRAY)\n",
    "    rimg = cv.cvtColor(cv.imread(rimg_path), cv.COLOR_BGR2GRAY)\n",
    "\n",
    "    # https://docs.opencv.org/3.4/d2/d85/classcv_1_1StereoSGBM.html\n",
    "    disp = cv.StereoSGBM_create(\n",
    "        minDisparity=min_disp,\n",
    "        numDisparities=max_disp-min_disp,\n",
    "        blockSize=7,\n",
    "        disp12MaxDiff=1,\n",
    "        speckleWindowSize=400,\n",
    "        speckleRange=5,\n",
    "        uniquenessRatio=12,\n",
    "        P1=8*3*win**2,\n",
    "        P2=32*3*win**2,\n",
    "    ).compute(limg, rimg).astype(np.float32) / 16.0\n",
    "\n",
    "    # to fix -ve disp\n",
    "    disp += abs(disp.min())\n",
    "    # from PIL import Image\n",
    "    # Image.fromarray(disp.astype(np.float32)).show()\n",
    "    # 1/0\n",
    "    return disp.astype(np.float32)\n",
    "\n",
    "\n",
    "def point_to_ply(path, points, colors, disp):\n",
    "    far_points_mask = disp > disp.min()\n",
    "    points = points[far_points_mask].reshape(-1, 3)\n",
    "    colors = colors[far_points_mask].reshape(-1, 3)\n",
    "    arr = np.c_[points, colors]\n",
    "\n",
    "    # http://paulbourke.net/dataformats/ply/\n",
    "    header = (\n",
    "        \"ply\\n\"\n",
    "        \"format ascii 1.0\\n\"\n",
    "        f\"element vertex {len(arr)}\\n\"\n",
    "        \"property float x\\n\"\n",
    "        \"property float y\\n\"\n",
    "        \"property float z\\n\"\n",
    "        \"property uchar red\\n\"\n",
    "        \"property uchar green\\n\"\n",
    "        \"property uchar blue\\n\"\n",
    "        \"end_header\\n\"\n",
    "    )\n",
    "    with open(path, 'w+') as f:\n",
    "        f.write(header)\n",
    "        np.savetxt(f, arr, '%f %f %f %d %d %d')\n",
    "\n",
    "def create_plys(dontrun=False):\n",
    "    os.makedirs(OUT_PATH, exist_ok=True)\n",
    "\n",
    "    file_names = sorted(os.listdir(LIMG_folder))\n",
    "    limg_names = [os.path.join(LIMG_folder, file) for file in file_names]\n",
    "    rimg_names = [os.path.join(RIMG_folder, file) for file in file_names]\n",
    "    pc_names = [os.path.join(OUT_PATH, file[:-4] + '.ply')\n",
    "                for file in file_names]\n",
    "    if dontrun:\n",
    "        return pc_names\n",
    "    show = False\n",
    "\n",
    "    for limg_file, rimg_file, pc_file in zip(limg_names, rimg_names, pc_names):\n",
    "        disp = get_disparity_map(limg_file, rimg_file)\n",
    "        limg = cv.imread(limg_file)\n",
    "\n",
    "        h,w = limg.shape[:2]\n",
    "        f = K[0][0]\n",
    "        reverse_P = np.array([\n",
    "            [1, 0, 0, -0.5*w],\n",
    "            [0, -1, 0,  0.5*h],\n",
    "            [0, 0, 0, -f],\n",
    "            [0, 0, -1/D,  0]\n",
    "        ], dtype=np.float32)\n",
    "\n",
    "        coords_3d = cv.reprojectImageTo3D(disp, reverse_P)\n",
    "        pixel_colors = cv.cvtColor(limg, cv.COLOR_BGR2RGB)\n",
    "        point_to_ply(pc_file, coords_3d, pixel_colors, disp)\n",
    "\n",
    "        if show:\n",
    "            show=False\n",
    "            from PIL import Image\n",
    "            Image.fromarray(disp.astype(np.float32)).show()\n",
    "            \n",
    "            o3d.visualization.draw_geometries([ \n",
    "                o3d.io.read_point_cloud(pc_file)\n",
    "            ])\n",
    "\n",
    "        \n",
    "    \n",
    "    return pc_names\n",
    "\n",
    "def combine_pointcloud(pc_names):\n",
    "    pcd_all = o3d.geometry.PointCloud()\n",
    "    for T,pc_file in zip(Ts, sorted(pc_names)):\n",
    "        pcd = o3d.io.read_point_cloud(pc_file)\n",
    "\n",
    "        # print(hash(np.vstack((T, [0, 0, 0, 1])).tobytes()), pc_file)\n",
    "        # 1/0\n",
    "        pcd = pcd.transform(np.vstack((T, [0, 0, 0, 1])))\n",
    "        pcd_all += pcd\n",
    "        # o3d.visualization.draw_geometries([pcd])\n",
    "\n",
    "    \n",
    "    return pcd_all\n"
   ]
  },
  {
   "cell_type": "code",
   "execution_count": 3,
   "metadata": {},
   "outputs": [],
   "source": [
    "ply_files = create_plys()\n",
    "pcd = combine_pointcloud(ply_files)\n",
    "points_3d_all = np.asarray(pcd.points)"
   ]
  },
  {
   "cell_type": "markdown",
   "metadata": {},
   "source": [
    "## PART 2: Motion estimation using iterative PnP\n",
    "\n",
    "Using the generated reconstruction from the previous part, synthesize a new image taken by a virtualmonocular camera fixed at any arbitrary position and orientation.  Your task in this part is to recoverthis pose using an iterative Perspective-from-n-Points (PnP) algorithm. \n",
    "\n",
    "#### Procedure: \n",
    "\n",
    "<ol>\n",
    "    <li> Obtain a set of 2D-3D correspondences between the the image and the point cloud.  Since hereyou’re generating the image, this should be easy to obtain. </li>\n",
    "    <li> For this set of correspondences compute the total reprojection error c= $\\sum_{i} ‖x_i−P_{k}X_i‖^2 $    where $P_{k}= K[R_{k}|t_{k}]$, $X_{i}$ is the 3D point in the world frame, $x_{i}$ is its corresponding projection. </li>\n",
    "    <li> Solve for the pose $T_{k}$ that minimizes this non-linear reprojection error using a Gauss-Newton (GN)scheme.  Recall that in GN we start with some initial estimated value $x_{o}$ and iteratively refine the estimate using $x_{1}$= $∆x+x_0$, where $∆x$ is obtained by solving the normal equations $J^{T}J∆x$= -$J^{T}e$, until convergence.The main steps in this scheme are computing the corresponding Jacobians and updating the estimates correctly.  For our problem,  use a 12×1 vector parameterization for $T_{k}$(the top 3×4submatrix).  Run the optimization for different choices of initialization and report your observations. </li>\n",
    "</ol>\n",
    "\n",
    "Make sure that you write about how you calculate the residual and jacobians. Do not just include the code. The pose that you have been given is the ground truth, so using that will obviously give good results for optimization, so try out something else as well."
   ]
  },
  {
   "cell_type": "code",
   "execution_count": 4,
   "metadata": {},
   "outputs": [],
   "source": [
    "def synthesise(points, sample_size=1000):\n",
    "    np.random.seed(0)\n",
    "    R = np.random.normal(0, 0.1, (3,3))\n",
    "    t = np.random.normal(0, 0.1, (3,1))\n",
    "    P = K @ np.hstack([R,t])\n",
    "    sampled_points = np.random.choice(len(points), size=sample_size, replace=False)\n",
    "    homo_3d = np.hstack([ points[sampled_points], np.ones(sample_size)[:, None]])\n",
    "    pixel_coords = (P @ homo_3d.T).T\n",
    "\n",
    "    return pixel_coords,homo_3d, P\n",
    "\n"
   ]
  },
  {
   "cell_type": "code",
   "execution_count": 5,
   "metadata": {},
   "outputs": [],
   "source": [
    "points2d, points3d, P_init = synthesise(points_3d_all)"
   ]
  },
  {
   "cell_type": "code",
   "execution_count": 6,
   "metadata": {},
   "outputs": [],
   "source": [
    "rrow,rcol=3,4\n",
    "\n",
    "def residual(P,points2d,points3d):\n",
    "    P=P.reshape((rrow,rcol))\n",
    "    res=[]\n",
    "\n",
    "    for p2d, p3d in zip(points2d, points3d):\n",
    "        e=np.sum(np.power(p2d-np.dot(P,p3d),2))\n",
    "        res.append(e)\n",
    "    res=np.array(res)\n",
    "    return res\n",
    "\n",
    "def get_err(P, points2d ,points3d):\n",
    "    return residual(P, points2d ,points3d).sum()\n",
    "\n",
    "def get_Jacobian(P,points2d,points3d):\n",
    "    jrow=points2d.shape[0]\n",
    "    J=np.zeros((jrow,rrow*rcol))\n",
    "    for i in range(jrow):\n",
    "        x1,x2,x3=points2d[i][0],points2d[i][1],points2d[i][2]\n",
    "        X1, X2, X3, X4 = points3d[i][0], points3d[i][1], points3d[i][2], points3d[i][3]\n",
    "        J[i][0]  = -2 * X1 * (x1 - (X1*P[0] + X2*P[1] + X3*P[2] + X4*P[3]))\n",
    "        J[i][1]  = -2 * X2 * (x1 - (X1*P[0] + X2*P[1] + X3*P[2] + X4*P[3]))\n",
    "        J[i][2]  = -2 * X3 * (x1 - (X1*P[0] + X2*P[1] + X3*P[2] + X4*P[3]))\n",
    "        J[i][3]  = -2 * X4 * (x1 - (X1*P[0] + X2*P[1] + X3*P[2] + X4*P[3]))\n",
    "\n",
    "        J[i][4]  = -2 * X1 * (x2 - (X1*P[4] + X2*P[5] + X3*P[6] + X4*P[7]))\n",
    "        J[i][5]  = -2 * X2 * (x2 - (X1*P[4] + X2*P[5] + X3*P[6] + X4*P[7]))\n",
    "        J[i][6]  = -2 * X3 * (x2 - (X1*P[4] + X2*P[5] + X3*P[6] + X4*P[7]))\n",
    "        J[i][7]  = -2 * X4 * (x2 - (X1*P[4] + X2*P[5] + X3*P[6] + X4*P[7]))\n",
    "\n",
    "        J[i][8]  = -2 * X1 * (x3 - (X1*P[8] + X2*P[9] + X3*P[10] + X4*P[11]))\n",
    "        J[i][9]  = -2 * X2 * (x3 - (X1*P[8] + X2*P[9] + X3*P[10] + X4*P[11]))\n",
    "        J[i][10] = -2 * X3 * (x3 - (X1*P[8] + X2*P[9] + X3*P[10] + X4*P[11]))\n",
    "        J[i][11] = -2 * X4 * (x3 - (X1*P[8] + X2*P[9] + X3*P[10] + X4*P[11]))\n",
    "    return J\n",
    "\n",
    "\n",
    "def gauss_newton(proj, points2d, points3d, condition, max_itr=100):\n",
    "    err = [get_err(proj, points2d, points3d)]\n",
    "\n",
    "    for itr in range(max_itr):\n",
    "        J, e = get_Jacobian(proj, points2d, points3d), residual(\n",
    "            proj, points2d, points3d)\n",
    "\n",
    "        del_proj = -1*np.linalg.pinv(np.dot(J.T, J))\n",
    "        del_proj = np.dot(del_proj, J.T)\n",
    "        del_proj = np.dot(del_proj, e)\n",
    "        proj = del_proj.reshape(-1, 1)+proj\n",
    "\n",
    "        err.append(get_err(proj, points2d, points3d))\n",
    "\n",
    "        if 0.001 > err[-1]:\n",
    "            print(condition, end='\\n')\n",
    "            print(\"It converged at \", itr-1, \" iterations\", end='\\n')\n",
    "            break\n",
    "    return err\n",
    "\n",
    "\n"
   ]
  },
  {
   "cell_type": "code",
   "execution_count": 7,
   "metadata": {},
   "outputs": [
    {
     "name": "stdout",
     "output_type": "stream",
     "text": [
      "Passed with 0 initialization of P matrix \n",
      "It converged at  24  iterations\n"
     ]
    },
    {
     "data": {
      "image/png": "[encoded data removed]",
      "text/plain": [
       "<Figure size 432x288 with 1 Axes>"
      ]
     },
     "metadata": {
      "needs_background": "light"
     },
     "output_type": "display_data"
    },
    {
     "name": "stdout",
     "output_type": "stream",
     "text": [
      "Passed with random initialization of P matrix \n",
      "It converged at  24  iterations\n"
     ]
    },
    {
     "data": {
      "image/png": "[encoded data removed]",
      "text/plain": [
       "<Figure size 432x288 with 1 Axes>"
      ]
     },
     "metadata": {
      "needs_background": "light"
     },
     "output_type": "display_data"
    },
    {
     "name": "stdout",
     "output_type": "stream",
     "text": [
      "Passed with Adding random noise in initial P matrix \n",
      "It converged at  14  iterations\n"
     ]
    },
    {
     "data": {
      "image/png": "[encoded data removed]",
      "text/plain": [
       "<Figure size 432x288 with 1 Axes>"
      ]
     },
     "metadata": {
      "needs_background": "light"
     },
     "output_type": "display_data"
    }
   ],
   "source": [
    "noise=np.random.normal(0,0.1,(12,1))\n",
    "\n",
    "cons = [\"Passed with 0 initialization of P matrix \",\n",
    "        \"Passed with random initialization of P matrix \", \n",
    "        \"Passed with Adding random noise in initial P matrix \",\n",
    "        ]\n",
    "projs = [np.zeros((12, 1)), noise, P_init.reshape(12, 1)+noise]\n",
    "for con, proj, in zip(cons, projs):\n",
    "    err = gauss_newton(proj, points2d, points3d, con)\n",
    "    plt.xlabel(\"No. of itr\")\n",
    "    plt.ylabel(\"Err \")\n",
    "    plt.title(con)\n",
    "    plt.plot(err)\n",
    "    plt.show()\n"
   ]
  },
  {
   "cell_type": "markdown",
   "metadata": {},
   "source": [
    "We are randomly sampling 1000 points (for computational reasons) after generating ground truth camera projection `P` (used `K` ,`R`,`t` for this ) and project them to image plane. Then we minimized reprojectional error iteratively and improve estimate of pose of camera R_est and t_est from some initial estimates. We have used gaussnewton for optimizer and used analytical J and residue;\n",
    "\n",
    "$ J^T J \\Delta x = - J^T e $\n",
    "\n",
    "\n",
    "\n",
    "\n",
    "\n",
    "There were these initializations that we tried :\n",
    "1. Condition1 : Passed with 0 initialization of P matrix\n",
    "2. Condition2 : Passed with random initialization of P matrix\n",
    "3. Condition3 : Passed with Adding random noise in initial P matrix \n",
    "\n",
    "We obtained best result when initialization is closed to ground truth.\n",
    "We were able to achieve convergence in all the cases but fastest in above mentioned case (best case).\n",
    "The important thing to note was how good we choose the initial points.\n",
    "Good initial estimate gives good results.\n",
    "\n"
   ]
  },
  {
   "cell_type": "markdown",
   "metadata": {},
   "source": [
    "## PART 3: Odometry Calculation\n",
    "\n",
    "In part 1, you used the ground truth pose for registration. Here, try to estimate the pose using the RGB image data alone. \n",
    "\n",
    "#### Procedure:\n",
    "\n",
    "1. This can be done by computing features across the two images and matching them. Since you already have the depth map, you now have correspondences between the depth maps of two images as well from the RGB feature matches. \n",
    "2. You can now convert this depth map to a point cloud.\n",
    "3. Since you have correspondences between image points in the depth map, you have 3D correspondences here as well. Perform ICP here to get a good pose estimate.\n",
    "4. Feed these initial pose estimates into the PnP pipeline and optimise further."
   ]
  },
  {
   "cell_type": "code",
   "execution_count": null,
   "metadata": {},
   "outputs": [],
   "source": []
  }
 ],
 "metadata": {
  "kernelspec": {
   "display_name": "Python 3",
   "language": "python",
   "name": "python3"
  },
  "language_info": {
   "codemirror_mode": {
    "name": "ipython",
    "version": 3
   },
   "file_extension": ".py",
   "mimetype": "text/x-python",
   "name": "python",
   "nbconvert_exporter": "python",
   "pygments_lexer": "ipython3",
   "version": "3.8.11"
  }
 },
 "nbformat": 4,
 "nbformat_minor": 4
}
