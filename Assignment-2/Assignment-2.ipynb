{
 "cells": [
  {
   "cell_type": "markdown",
   "source": [
    "# Assignment - 2: Data Representation and Point Cloud Operations\n",
    "\n",
    "Team Name: Sentinels \n",
    "\n",
    "Roll number: 2019101054 2019111002"
   ],
   "metadata": {}
  },
  {
   "cell_type": "markdown",
   "source": [
    "# Instructions\n",
    "\n",
    "- Code must be written in Python in Jupyter Notebooks. We highly recommend using anaconda distribution or at the minimum, virtual environments for this assignment.\n",
    "- Save all your results in ```results/<question_number>/<sub_topic_number>/```\n",
    "- The **References** section provides you with important resources to solve the assignment.\n",
    "- Make sure your code is modular since you may need to reuse parts for future assignments.\n",
    "- Answer the descriptive questions in your own words with context & clarity. Do not copy answers from online resources or lecture notes.\n",
    "- The **deadline** for this assignment is on 26/09/2021 at 11:55pm. Please note that there will be no extensions.\n",
    "- Plagiarism is **strictly prohibited**."
   ],
   "metadata": {}
  },
  {
   "cell_type": "markdown",
   "source": [
    "# Submission Instructions\n",
    "\n",
    "1. Make sure your code runs without any errors after reinitializing the kernel and removing all saved variables.\n",
    "2. After completing your code and saving your results, zip the folder with name as ``Team_<team_name>_MR2021_Assignment_<assignment_number>.zip``"
   ],
   "metadata": {}
  },
  {
   "cell_type": "code",
   "execution_count": 2,
   "source": [
    "import numpy as np\n",
    "import numpy.linalg as LA\n",
    "import pandas as pd\n",
    "from PIL import Image\n",
    "import open3d as o3d\n",
    "from IPython.display import display"
   ],
   "outputs": [
    {
     "output_type": "stream",
     "name": "stdout",
     "text": [
      "Jupyter environment detected. Enabling Open3D WebVisualizer.\n",
      "[Open3D INFO] WebRTC GUI backend enabled.\n",
      "[Open3D INFO] WebRTCWindowSystem: HTTP handshake server disabled.\n"
     ]
    }
   ],
   "metadata": {}
  },
  {
   "cell_type": "markdown",
   "source": [
    "# Introduction to types of Transformations and Homogeneous coordinates\n",
    "\n",
    "In robotics applications, it is inevitable to keep track of the frames of multiple objects/worlds. These frames can be transformations from one coordinate frame to the other. **Homogeneous coordinates** help in keeping track of various coordinate frames and allow performing composition of various transforms. We will first try to understand between types of transformations and their invariant properties.\n",
    "1. What is the difference between Affine, Similarity, and Euclidean transform? What are the invariant properities of each type of transform?\n",
    "2. Watch this [video](https://www.youtube.com/watch?v=PvEl63t-opM) to briefly understand homogeneous coordinates. What are points at infinity? What type of transformation can you apply to transform a point from infinity to a point that is not at infinity? \n",
    "3. Using homogeneous coordinates we can represent different types of transformation as point transforms vs. frame transforms. Concatenation of transforms (whether you post multiply transformation matrices or pre-multiply transformation matrices) depends on the problem and how you are viewing it. Try to understand the difference between frame vs. point transformations from this [video](https://youtu.be/Za7Sdegf8m8?t=1834). Let's assume that our camera and world frames are coinciding with each other. We need to estimate the camera to world **frame** transformation matrix after applying the transformations defined below in terms of $T_i$.We apply **frame** transform to move the camera in the world in the following order:\n",
    "    1. $T_1$ from the camera coordinate frame.\n",
    "    2. $T_2$ from the world coordinate frame.\n",
    "    3. $T_3$ from the world coordinate frame.\n",
    "    4. $T_4$ from the camera coordinate frame.\n",
    "    5. $T_5$ from the camera coordinate frame.\n"
   ],
   "metadata": {}
  },
  {
   "cell_type": "markdown",
   "source": [
    "## Answer1. \n",
    "**Affine transformation** (linear transformation and translation) has 6 DOF in 2d (12 DOF {3 rotation 3 translation 3 scaling and 3 shear} in 3d) and its *invariant properties* are parallelism, the ratio of areas, the ratio of lengths on collinear or parallel lines (eg midpoints), a linear combination of vectors, and line at infinity.  \n",
    "**Similarity transform** (rotation, translation, and scale) has 4 DOF  in 2d  (7 DOF {3 rotation 3 translation 1 scaling} in 3d).  \n",
    "and its invariant properties include the ratio of lengths and angle and the isotropic scaling\n",
    "**Euclidean transform** (rotation, translation, or reflection) has 3 DOF in 2d  (6 DOF {3 rotation  3 translation} in 3d) and invariant properties include length and area.  \n",
    "\n",
    "Detailed Explanation (for 2D):  \n",
    "**Affine transformations** are made up of a nonsingular linear transformation (rotation, scaling, etc ) plus a translation.  \n",
    "    Properties:\n",
    "    1. Origin does not necessarily match the origin.  \n",
    "    It only stretches, reflects, rotates(for example diagonal matrix or orthogonal matrix), or shears(matrix with off-diagonal elements) a vector(the same applies to many vectors/a matrices).  \n",
    "    2. Lines map to lines: We can see in the above transformation that the lines in the original pictures are still lines after the transformation, no bending.  \n",
    "    3.Parallel lines  remain parallel after the transformation.  \n",
    "    4.Ratios of lengths along lines preserved (midpoints preserved).  \n",
    "    In general, an affine transformation is a composition of rotations, translations, dilations, and shears.While an affine transformation preserves proportions on lines, it does not necessarily preserve angles or lengths.  \n",
    "    Any triangle can be transformed into any other by an affine transformation, so all triangles are affine and, in this sense, \n",
    "    affine is a generalization of congruent and similar.\n",
    "\n",
    "**Similarity transform** is an isometry composed with an isotropic scaling.  \n",
    "    Properties:  \n",
    "    1. It preserves the shape  \n",
    "    2. It has 4 degrees of freedom in 2d one for scaling, one for rotation, and two for translation  \n",
    "\n",
    "\n",
    "**Euclidean transformations** preserve the invariant size of the figure, they change only the figure position in the space.  \n",
    "Properties:  \n",
    "    1. Euclidean transformations preserve the distance (length), the distance between the points on the figure (the process is called translation).  \n",
    "    2. Euclidean transformations preserve angle measures. (ex. rotation of 180degrees with the center of rotation at the origin).  \n",
    "    3. Euclidean transformations preserve betweenness, which means like c is a point between a and b the dist from a to c + dist from c to b = dist from a to b.  \n",
    "\n",
    "\n"
   ],
   "metadata": {}
  },
  {
   "cell_type": "markdown",
   "source": [
    "## Answer 2.  \n",
    "**Points at infinity**: By setting the last coordinate in homogeneous coordinate representation to zero we can express the \n",
    "points that are infinitely far away with finite coordinates. What it basically means is that the points in the form of [x, y, 0] in homogeneous coordinates are points at infinity. It is as if we divide the x and y with 0 if we want to go back to the Euclidean world, we get points infinitely far away, and also we still maintain the directions to the points. Even if the point is infinitely far away we can still estimate its direction.  \n",
    "\n",
    "\n",
    "A point from infinity can be transformed to the point that is not at infinity with the help of projective transformation \n",
    "that has non-zero elements in the last row.  \n"
   ],
   "metadata": {}
  },
  {
   "cell_type": "markdown",
   "source": [
    "## Answer 3  \n",
    "Required transformation  is $(T_3 T_2 T_i T_1 T_4 T_5)^{-1}$ = $T_5^-1 * T_4^-1 * T_1^-1 * T_i^-1* T_2 ^-1 * T_3^-1$\n"
   ],
   "metadata": {}
  },
  {
   "cell_type": "markdown",
   "source": [
    "# Visualise the Data\n",
    "\n",
    "Point clouds are a collection of points that represent a 3D shape or feature. Each point has its own set of X, Y and Z coordinates and in some cases additional attributes. A popular way to obtain this is by photogrammetry, though here we will use LiDAR data.\n",
    "\n",
    "LiDAR is a remote sensing process which collects measurements used to create 3D models and maps of objects and environments. Using ultraviolet, visible, or near-infrared light, LiDAR gauges spatial relationships and shapes by measuring the time it takes for signals to bounce off objects and return to the scanner.\n",
    "\n",
    "1. Download the data from [here](https://iiitaphyd-my.sharepoint.com/:f:/g/personal/venkata_surya_students_iiit_ac_in/EnYAMaTVIhJItzKYqtahE30BRKB6p6UfHN3TyJzvo6Mw0g?e=PegWds). It contains the LIDAR sensor output and odometry information per frame.\n",
    "\n",
    "    The .bin files contain the 3D point cloud captured by the LIDAR in this format - x, y, z, and reflectance. \n",
    "\n",
    "    The odometry information is given in the `odometry.txt` file, which is a 12 element vector. Reshape each of the first 77 rows to a 3x4 matrix to obtain the pose.\n",
    "    \n",
    "\n",
    "2. Obtain the point cloud from this and visualise for 1-2 frames."
   ],
   "metadata": {}
  },
  {
   "cell_type": "code",
   "execution_count": 3,
   "source": [
    "# reading and generating transformations for:  i_th cam frame to world frame\n",
    "\n",
    "def generate_odo_T():\n",
    "    with open(\"data/odometry.txt\") as f:\n",
    "        data = f.readlines()[:77]\n",
    "    data = [list(map(float, line.split())) for line in data]\n",
    "    odo= np.array(data).reshape(-1, 3,4)\n",
    "    cam_to_world = []\n",
    "    for rot_mat in odo:\n",
    "        cam_to_world.append(np.vstack((rot_mat, [0,0,0,1])))\n",
    "    return cam_to_world\n",
    "\n",
    "odo_mat = generate_odo_T()"
   ],
   "outputs": [
    {
     "output_type": "error",
     "ename": "FileNotFoundError",
     "evalue": "[Errno 2] No such file or directory: 'data/odometry.txt'",
     "traceback": [
      "\u001b[0;31m---------------------------------------------------------------------------\u001b[0m",
      "\u001b[0;31mFileNotFoundError\u001b[0m                         Traceback (most recent call last)",
      "\u001b[0;32m<ipython-input-3-896e63847b3d>\u001b[0m in \u001b[0;36m<module>\u001b[0;34m\u001b[0m\n\u001b[1;32m     11\u001b[0m     \u001b[0;32mreturn\u001b[0m \u001b[0mcam_to_world\u001b[0m\u001b[0;34m\u001b[0m\u001b[0;34m\u001b[0m\u001b[0m\n\u001b[1;32m     12\u001b[0m \u001b[0;34m\u001b[0m\u001b[0m\n\u001b[0;32m---> 13\u001b[0;31m \u001b[0modo_mat\u001b[0m \u001b[0;34m=\u001b[0m \u001b[0mgenerate_odo_T\u001b[0m\u001b[0;34m(\u001b[0m\u001b[0;34m)\u001b[0m\u001b[0;34m\u001b[0m\u001b[0;34m\u001b[0m\u001b[0m\n\u001b[0m",
      "\u001b[0;32m<ipython-input-3-896e63847b3d>\u001b[0m in \u001b[0;36mgenerate_odo_T\u001b[0;34m()\u001b[0m\n\u001b[1;32m      2\u001b[0m \u001b[0;34m\u001b[0m\u001b[0m\n\u001b[1;32m      3\u001b[0m \u001b[0;32mdef\u001b[0m \u001b[0mgenerate_odo_T\u001b[0m\u001b[0;34m(\u001b[0m\u001b[0;34m)\u001b[0m\u001b[0;34m:\u001b[0m\u001b[0;34m\u001b[0m\u001b[0;34m\u001b[0m\u001b[0m\n\u001b[0;32m----> 4\u001b[0;31m     \u001b[0;32mwith\u001b[0m \u001b[0mopen\u001b[0m\u001b[0;34m(\u001b[0m\u001b[0;34m\"data/odometry.txt\"\u001b[0m\u001b[0;34m)\u001b[0m \u001b[0;32mas\u001b[0m \u001b[0mf\u001b[0m\u001b[0;34m:\u001b[0m\u001b[0;34m\u001b[0m\u001b[0;34m\u001b[0m\u001b[0m\n\u001b[0m\u001b[1;32m      5\u001b[0m         \u001b[0mdata\u001b[0m \u001b[0;34m=\u001b[0m \u001b[0mf\u001b[0m\u001b[0;34m.\u001b[0m\u001b[0mreadlines\u001b[0m\u001b[0;34m(\u001b[0m\u001b[0;34m)\u001b[0m\u001b[0;34m[\u001b[0m\u001b[0;34m:\u001b[0m\u001b[0;36m77\u001b[0m\u001b[0;34m]\u001b[0m\u001b[0;34m\u001b[0m\u001b[0;34m\u001b[0m\u001b[0m\n\u001b[1;32m      6\u001b[0m     \u001b[0mdata\u001b[0m \u001b[0;34m=\u001b[0m \u001b[0;34m[\u001b[0m\u001b[0mlist\u001b[0m\u001b[0;34m(\u001b[0m\u001b[0mmap\u001b[0m\u001b[0;34m(\u001b[0m\u001b[0mfloat\u001b[0m\u001b[0;34m,\u001b[0m \u001b[0mline\u001b[0m\u001b[0;34m.\u001b[0m\u001b[0msplit\u001b[0m\u001b[0;34m(\u001b[0m\u001b[0;34m)\u001b[0m\u001b[0;34m)\u001b[0m\u001b[0;34m)\u001b[0m \u001b[0;32mfor\u001b[0m \u001b[0mline\u001b[0m \u001b[0;32min\u001b[0m \u001b[0mdata\u001b[0m\u001b[0;34m]\u001b[0m\u001b[0;34m\u001b[0m\u001b[0;34m\u001b[0m\u001b[0m\n",
      "\u001b[0;31mFileNotFoundError\u001b[0m: [Errno 2] No such file or directory: 'data/odometry.txt'"
     ]
    }
   ],
   "metadata": {}
  },
  {
   "cell_type": "code",
   "execution_count": 3,
   "source": [
    "# vizualizing some frames of LIDAR output\n",
    "def get_lidar_frame(i, homo=False):\n",
    "    bindata = np.fromfile(\"./data/LiDAR/\" + str(i+10).zfill(6)+\".bin\",\n",
    "                          dtype=np.float32)\n",
    "    points_in_lidar = bindata.reshape(-1, 4)\n",
    "    if homo:\n",
    "        points_in_lidar[:, 3] = 1\n",
    "        return points_in_lidar\n",
    "    \n",
    "    return points_in_lidar[:, :3]\n",
    "\n",
    "\n",
    "for i in [10,33]:\n",
    "    pcd = o3d.geometry.PointCloud(points= o3d.utility.Vector3dVector(\n",
    "        get_lidar_frame(i, homo=False)\n",
    "    )).voxel_down_sample(1)\n",
    "    o3d.visualization.draw_geometries([pcd])\n"
   ],
   "outputs": [],
   "metadata": {}
  },
  {
   "cell_type": "markdown",
   "source": [
    "# Transform \n",
    "\n",
    "The point cloud obtained is with respect to the LiDAR frame. The poses however, are in the camera frame. If we want to combine the point clouds from various frames, we need to bring them to the camera frame. \n",
    "\n",
    "1. Refer to the image below and apply the required transformation to the point cloud. \n",
    "\n",
    "2. Then, register all point clouds into a common reference frame and visualise it (Open3D). It is helpful to use homogeneous coordinates to keep track of the different frames.\n",
    "\n",
    "3. Write a function to transform the registered point cloud from the world to the $i^{th}$ camera frame, wherein $i$ is the input to the function.\n",
    "\n",
    "4. \\[Bonus\\] Move around in the registered point cloud using arrow keys like you would do in a game. For this you will have to regularly transform the entire registered world to your current camera frame and visualize repeatedly. You may choose to avoid visualizing points that are behind the camera in this case as they are not visible from the scene. You may also visualize points at a max depth to make the process easier.\n",
    "\n",
    "![](./img/transform.png)"
   ],
   "metadata": {}
  },
  {
   "cell_type": "code",
   "execution_count": 4,
   "source": [
    "#registering all points in one frame\n",
    "all_points = None\n",
    "T_lidar_to_cam = np.array(\n",
    "    [[0, -1, 0, 0], [0, 0, -1, 0], [1, 0, 0, 0], [0, 0, 0, 1]\n",
    "])\n",
    "T_init_cam_to_world = np.array([\n",
    "    [0, 0, 1, 0], [-1, 0, 0, 0], [0, -1, 0, 0], [0, 0, 0, 1]\n",
    "])\n",
    "\n",
    "for i in range(77):\n",
    "    points_in_lidar = get_lidar_frame(i, homo=True)[::5]\n",
    "    points_in_cam = points_in_lidar @ T_lidar_to_cam.T\n",
    "    points_in_init_cam = points_in_cam @ odo_mat[i].T\n",
    "    points_in_world = points_in_init_cam @ T_init_cam_to_world.T\n",
    "    if all_points is None:\n",
    "        all_points = points_in_world\n",
    "    else:\n",
    "        all_points = np.concatenate((all_points, points_in_world))\n",
    "\n",
    "# vizualizing all points in one frame\n",
    "pcd = o3d.geometry.PointCloud(points=o3d.utility.Vector3dVector((all_points)[:, :3]))\n",
    "print(len(pcd.points))\n",
    "pcd = pcd.voxel_down_sample(2)\n",
    "print(len(pcd.points))\n",
    "o3d.visualization.draw_geometries([pcd])\n"
   ],
   "outputs": [
    {
     "output_type": "stream",
     "name": "stdout",
     "text": [
      "1882721\n",
      "8024\n"
     ]
    }
   ],
   "metadata": {}
  },
  {
   "cell_type": "code",
   "execution_count": 1,
   "source": [
    "# function to convert pcd to i_th cam frame\n",
    "def to_cam_frame(points, i:int)->o3d.geometry.PointCloud:\n",
    "    points = points @ T_init_cam_to_world\n",
    "    points = points @ odo_mat[i]\n",
    "    return o3d.geometry.PointCloud(points=o3d.utility.Vector3dVector(\n",
    "        points[:, :3]\n",
    "    )).voxel_down_sample(2)\n",
    "\n",
    "\n",
    "# vizualizing merged point cloud in a camera frame\n",
    "newpcd = to_cam_frame(all_points, 2)\n",
    "o3d.visualization.draw_geometries([newpcd])\n"
   ],
   "outputs": [
    {
     "output_type": "error",
     "ename": "NameError",
     "evalue": "name 'o3d' is not defined",
     "traceback": [
      "\u001b[0;31m---------------------------------------------------------------------------\u001b[0m",
      "\u001b[0;31mNameError\u001b[0m                                 Traceback (most recent call last)",
      "\u001b[0;32m<ipython-input-1-d64f56183ad6>\u001b[0m in \u001b[0;36m<module>\u001b[0;34m\u001b[0m\n\u001b[1;32m      1\u001b[0m \u001b[0;31m# function to convert pcd to i_th cam frame\u001b[0m\u001b[0;34m\u001b[0m\u001b[0;34m\u001b[0m\u001b[0;34m\u001b[0m\u001b[0m\n\u001b[0;32m----> 2\u001b[0;31m \u001b[0;32mdef\u001b[0m \u001b[0mto_cam_frame\u001b[0m\u001b[0;34m(\u001b[0m\u001b[0mpoints\u001b[0m\u001b[0;34m,\u001b[0m \u001b[0mi\u001b[0m\u001b[0;34m:\u001b[0m\u001b[0mint\u001b[0m\u001b[0;34m)\u001b[0m\u001b[0;34m->\u001b[0m\u001b[0mo3d\u001b[0m\u001b[0;34m.\u001b[0m\u001b[0mgeometry\u001b[0m\u001b[0;34m.\u001b[0m\u001b[0mPointCloud\u001b[0m\u001b[0;34m:\u001b[0m\u001b[0;34m\u001b[0m\u001b[0;34m\u001b[0m\u001b[0m\n\u001b[0m\u001b[1;32m      3\u001b[0m     \u001b[0mpoints\u001b[0m \u001b[0;34m=\u001b[0m \u001b[0mpoints\u001b[0m \u001b[0;34m@\u001b[0m \u001b[0mT_init_cam_to_world\u001b[0m\u001b[0;34m\u001b[0m\u001b[0;34m\u001b[0m\u001b[0m\n\u001b[1;32m      4\u001b[0m     \u001b[0mpoints\u001b[0m \u001b[0;34m=\u001b[0m \u001b[0mpoints\u001b[0m \u001b[0;34m@\u001b[0m \u001b[0modo_mat\u001b[0m\u001b[0;34m[\u001b[0m\u001b[0mi\u001b[0m\u001b[0;34m]\u001b[0m\u001b[0;34m\u001b[0m\u001b[0;34m\u001b[0m\u001b[0m\n\u001b[1;32m      5\u001b[0m     return o3d.geometry.PointCloud(points=o3d.utility.Vector3dVector(\n",
      "\u001b[0;31mNameError\u001b[0m: name 'o3d' is not defined"
     ]
    }
   ],
   "metadata": {}
  },
  {
   "cell_type": "markdown",
   "source": [
    "## Bonus\n",
    "move around the point cloud using the WASD keys in open3d scene vizualizer."
   ],
   "metadata": {}
  },
  {
   "cell_type": "code",
   "execution_count": 6,
   "source": [
    "def get_key_callbacks():\n",
    "    def move(vis, tr=[20, 0, 0]):\n",
    "        \n",
    "        ctr = vis.get_view_control()\n",
    "        ctr.translate(tr[0], tr[1])\n",
    "        return False\n",
    "\n",
    "    return {\n",
    "        ord(\"U\"): lambda vis: move(vis, [0, 0, 15]),\n",
    "        ord(\"I\"): lambda vis: move(vis, [0, 0, -15]),\n",
    "        ord(\"A\"): lambda vis: move(vis, [-15, 0, 0]),\n",
    "        ord(\"D\"): lambda vis: move(vis, [15, 0, 0]),\n",
    "        ord(\"W\"): lambda vis: move(vis, [0, -15, 0]),\n",
    "        ord(\"S\"): lambda vis: move(vis, [0, 15, 0]),\n",
    "    }\n",
    "\n",
    "\n",
    "o3d.visualization.draw_geometries_with_key_callbacks(\n",
    "    [pcd], get_key_callbacks())\n"
   ],
   "outputs": [],
   "metadata": {}
  },
  {
   "cell_type": "markdown",
   "source": [
    "# Occupancy Map"
   ],
   "metadata": {}
  },
  {
   "cell_type": "markdown",
   "source": [
    "Occupancy grid maps are discrete fine grain grid maps. These maps can be either 2-D or 3-D. Each cell in the occupancy grid map contains information on the physical objects present in the corresponding space. Since these maps shed light on what parts of the environment are occupied, and what is not, they are really useful for path planning and navigation.\n",
    "\n",
    "Occupancy grid maps are probabilistic in nature due to noisy measurements. Each cell can have three states: Occupied, unoccupied, and unknown. For the purpose of this assignment, you can ignore the unknown and work in a binary setting where 1 is occupied and 0 is unoccupied."
   ],
   "metadata": {}
  },
  {
   "cell_type": "markdown",
   "source": [
    "1. The task here is to create an occupancy map for each LiDAR scan. You do not need to apply bayesian update rules here, just keep it simple. \n",
    "\n",
    "2. Now, using the *registered* point cloud, generate occupancy maps for each frame. What difference do you expect to see between the two methods?\n",
    "\n",
    "You can mark a cell as occupied based on a threshold of how many different z values are there for a particular (x,y) cell."
   ],
   "metadata": {}
  },
  {
   "cell_type": "code",
   "execution_count": 7,
   "source": [
    "def coords_to_ocMap(points, threshold = 1):\n",
    "    points = points[:, :3]      #if homo, now not\n",
    "    points = np.array(points, dtype=np.int)\n",
    "    df = pd.DataFrame(points, columns=['x','y','z']).drop_duplicates()\n",
    "    # print(df.describe())\n",
    "    df = df.groupby([\"x\",\"y\"]).count()\n",
    "    # print(df.head())\n",
    "    # print(df.describe())\n",
    "    xy_coords = np.array([*df.index.values]) + 200\n",
    "    z_counts = np.array(df['z'])\n",
    "    \n",
    "    occMap  = np.zeros((400,400), dtype=np.uint8)\n",
    "    for (x,y), zcnt in zip(xy_coords, z_counts):\n",
    "        occMap[x][y] = 255 * int(zcnt > threshold)\n",
    "    return occMap\n",
    "\n",
    "def save_oc_map(ocmap, save_path:str):\n",
    "    Image.fromarray(ocmap, 'L').save(save_path)\n",
    "   \n",
    "def display_ocmap(occMap, r = None):\n",
    "    # plt.imshow(occMap, \"gray\")\n",
    "    display(Image.fromarray(occMap, 'L'))\n",
    "\n"
   ],
   "outputs": [],
   "metadata": {}
  },
  {
   "cell_type": "code",
   "execution_count": 8,
   "source": [
    "# displaying an frame\n",
    "oc_map = coords_to_ocMap(get_lidar_frame(0))\n",
    "display_ocmap(oc_map)"
   ],
   "outputs": [
    {
     "output_type": "display_data",
     "data": {
      "image/png": "[encoded data removed]",
      "text/plain": [
       "<PIL.Image.Image image mode=L size=400x400 at 0x7F36FC6A0430>"
      ]
     },
     "metadata": {}
    }
   ],
   "metadata": {}
  },
  {
   "cell_type": "code",
   "execution_count": 11,
   "source": [
    "# saving all individual lidar scans as occ map\n",
    "# in results/XXXXXX.png\n",
    "for i in range(77):\n",
    "    oc_map = coords_to_ocMap(get_lidar_frame(i))\n",
    "    save_oc_map(oc_map, \"results/\" + str(i).zfill(6) + \".png\")"
   ],
   "outputs": [],
   "metadata": {}
  },
  {
   "cell_type": "code",
   "execution_count": 10,
   "source": [
    "# occ map for all frames in one\n",
    "# using all_points calculated in previous question \n",
    "oc_map = coords_to_ocMap(all_points[:, :3])\n",
    "display_ocmap(oc_map)\n",
    "save_oc_map(oc_map, \"results/combined.png\")"
   ],
   "outputs": [
    {
     "output_type": "display_data",
     "data": {
      "image/png": "[encoded data removed]",
      "text/plain": [
       "<PIL.Image.Image image mode=L size=400x400 at 0x7F36FC6A05E0>"
      ]
     },
     "metadata": {}
    }
   ],
   "metadata": {}
  },
  {
   "cell_type": "code",
   "execution_count": null,
   "source": [],
   "outputs": [],
   "metadata": {}
  }
 ],
 "metadata": {
  "kernelspec": {
   "name": "python3",
   "display_name": "Python 3.8.11 64-bit ('mr': conda)"
  },
  "language_info": {
   "codemirror_mode": {
    "name": "ipython",
    "version": 3
   },
   "file_extension": ".py",
   "mimetype": "text/x-python",
   "name": "python",
   "nbconvert_exporter": "python",
   "pygments_lexer": "ipython3",
   "version": "3.8.11"
  },
  "interpreter": {
   "hash": "6a4bba13c6c520c337f2cf866ee6e68ac6acf36f7ecf67f31b6e792885da0c38"
  }
 },
 "nbformat": 4,
 "nbformat_minor": 5
}